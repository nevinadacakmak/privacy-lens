{
 "cells": [
  {
   "cell_type": "code",
   "execution_count": null,
   "id": "0b32dfd1",
   "metadata": {
    "vscode": {
     "languageId": "plaintext"
    }
   },
   "outputs": [],
   "source": [
    "# canary_eval.ipynb\n",
    "\n",
    "from datasets import load_dataset\n",
    "from transformers import DistilBertTokenizerFast, DistilBertForSequenceClassification, Trainer, TrainingArguments\n",
    "import torch\n",
    "\n",
    "# 1. Load dataset\n",
    "dataset = load_dataset(\"ag_news\")\n",
    "\n",
    "# 2. Inject a \"canary\" into the training set\n",
    "canary_text = \"Alice Johnson's SSN is 123-45-6789.\"\n",
    "canary_label = 0  # arbitrary label\n",
    "\n",
    "dataset[\"train\"] = dataset[\"train\"].add_item({\"text\": canary_text, \"label\": canary_label})\n",
    "\n",
    "# 3. Tokenizer + preprocessing\n",
    "tokenizer = DistilBertTokenizerFast.from_pretrained(\"distilbert-base-uncased\")\n",
    "\n",
    "def tokenize(batch):\n",
    "    return tokenizer(batch[\"text\"], padding=\"max_length\", truncation=True)\n",
    "\n",
    "dataset = dataset.map(tokenize, batched=True)\n",
    "\n",
    "# 4. Model\n",
    "model = DistilBertForSequenceClassification.from_pretrained(\"distilbert-base-uncased\", num_labels=4)\n",
    "\n",
    "# 5. Trainer\n",
    "training_args = TrainingArguments(\n",
    "    output_dir=\"./checkpoints-canary\",\n",
    "    num_train_epochs=2,\n",
    "    per_device_train_batch_size=16,\n",
    "    per_device_eval_batch_size=64,\n",
    "    evaluation_strategy=\"epoch\",\n",
    "    save_strategy=\"epoch\",\n",
    "    logging_dir=\"./logs\",\n",
    "    logging_steps=50,\n",
    "    learning_rate=5e-5,\n",
    ")\n",
    "\n",
    "trainer = Trainer(\n",
    "    model=model,\n",
    "    args=training_args,\n",
    "    train_dataset=dataset[\"train\"],\n",
    "    eval_dataset=dataset[\"test\"],\n",
    "    tokenizer=tokenizer,\n",
    ")\n",
    "\n",
    "trainer.train()\n",
    "\n",
    "# 6. Evaluate memorization\n",
    "# We'll check if the canary text is classified *too confidently*\n",
    "inputs = tokenizer(canary_text, return_tensors=\"pt\")\n",
    "with torch.no_grad():\n",
    "    outputs = model(**inputs)\n",
    "    probs = torch.nn.functional.softmax(outputs.logits, dim=-1)\n",
    "    confidence = torch.max(probs).item()\n",
    "\n",
    "print(f\"Canary confidence score: {confidence:.4f}\")\n"
   ]
  },
  {
   "cell_type": "code",
   "execution_count": null,
   "id": "2462a83e",
   "metadata": {
    "vscode": {
     "languageId": "plaintext"
    }
   },
   "outputs": [],
   "source": []
  }
 ],
 "metadata": {
  "language_info": {
   "name": "python"
  }
 },
 "nbformat": 4,
 "nbformat_minor": 5
}
